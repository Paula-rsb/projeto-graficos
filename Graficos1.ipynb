{
 "cells": [
  {
   "cell_type": "code",
   "execution_count": 36,
   "id": "6324cb43",
   "metadata": {
    "scrolled": false
   },
   "outputs": [
    {
     "data": {
      "text/html": [
       "<div>\n",
       "<style scoped>\n",
       "    .dataframe tbody tr th:only-of-type {\n",
       "        vertical-align: middle;\n",
       "    }\n",
       "\n",
       "    .dataframe tbody tr th {\n",
       "        vertical-align: top;\n",
       "    }\n",
       "\n",
       "    .dataframe thead th {\n",
       "        text-align: right;\n",
       "    }\n",
       "</style>\n",
       "<table border=\"1\" class=\"dataframe\">\n",
       "  <thead>\n",
       "    <tr style=\"text-align: right;\">\n",
       "      <th></th>\n",
       "      <th>codigo_ocorrencia1</th>\n",
       "      <th>ocorrencia_tipo</th>\n",
       "      <th>ocorrencia_tipo_categoria</th>\n",
       "      <th>taxonomia_tipo_icao</th>\n",
       "    </tr>\n",
       "  </thead>\n",
       "  <tbody>\n",
       "    <tr>\n",
       "      <th>0</th>\n",
       "      <td>39115</td>\n",
       "      <td>PANE SECA</td>\n",
       "      <td>COMBUSTÍVEL | PANE SECA</td>\n",
       "      <td>FUEL</td>\n",
       "    </tr>\n",
       "    <tr>\n",
       "      <th>1</th>\n",
       "      <td>39155</td>\n",
       "      <td>VAZAMENTO DE COMBUSTÍVEL</td>\n",
       "      <td>FALHA OU MAU FUNCIONAMENTO DE SISTEMA / COMPON...</td>\n",
       "      <td>SCF-NP</td>\n",
       "    </tr>\n",
       "    <tr>\n",
       "      <th>2</th>\n",
       "      <td>39156</td>\n",
       "      <td>FOGO EM VOO</td>\n",
       "      <td>FOGO/FUMAÇA (SEM IMPACTO) | FOGO EM VOO</td>\n",
       "      <td>F-NI</td>\n",
       "    </tr>\n",
       "    <tr>\n",
       "      <th>3</th>\n",
       "      <td>39158</td>\n",
       "      <td>SUPERAQUECIMENTO</td>\n",
       "      <td>FALHA OU MAU FUNCIONAMENTO DO MOTOR | SUPERAQU...</td>\n",
       "      <td>SCF-PP</td>\n",
       "    </tr>\n",
       "    <tr>\n",
       "      <th>4</th>\n",
       "      <td>39176</td>\n",
       "      <td>FALHA OU MAU FUNCIONAMENTO DE SISTEMA / COMPON...</td>\n",
       "      <td>FALHA OU MAU FUNCIONAMENTO DE SISTEMA / COMPON...</td>\n",
       "      <td>SCF-NP</td>\n",
       "    </tr>\n",
       "    <tr>\n",
       "      <th>5</th>\n",
       "      <td>39178</td>\n",
       "      <td>FALHA OU MAU FUNCIONAMENTO DE SISTEMA / COMPON...</td>\n",
       "      <td>FALHA OU MAU FUNCIONAMENTO DE SISTEMA / COMPON...</td>\n",
       "      <td>SCF-NP</td>\n",
       "    </tr>\n",
       "    <tr>\n",
       "      <th>6</th>\n",
       "      <td>39235</td>\n",
       "      <td>PERDA DE CONTROLE EM VOO</td>\n",
       "      <td>PERDA DE CONTROLE EM VOO</td>\n",
       "      <td>LOC-I</td>\n",
       "    </tr>\n",
       "    <tr>\n",
       "      <th>7</th>\n",
       "      <td>39275</td>\n",
       "      <td>FALHA OU MAU FUNCIONAMENTO DE SISTEMA / COMPON...</td>\n",
       "      <td>FALHA OU MAU FUNCIONAMENTO DE SISTEMA / COMPON...</td>\n",
       "      <td>SCF-NP</td>\n",
       "    </tr>\n",
       "    <tr>\n",
       "      <th>8</th>\n",
       "      <td>39295</td>\n",
       "      <td>PERDA DE CONTROLE EM VOO</td>\n",
       "      <td>PERDA DE CONTROLE EM VOO</td>\n",
       "      <td>LOC-I</td>\n",
       "    </tr>\n",
       "    <tr>\n",
       "      <th>9</th>\n",
       "      <td>39315</td>\n",
       "      <td>OUTROS</td>\n",
       "      <td>OUTROS</td>\n",
       "      <td>OTHR</td>\n",
       "    </tr>\n",
       "  </tbody>\n",
       "</table>\n",
       "</div>"
      ],
      "text/plain": [
       "   codigo_ocorrencia1                                    ocorrencia_tipo  \\\n",
       "0               39115                                          PANE SECA   \n",
       "1               39155                           VAZAMENTO DE COMBUSTÍVEL   \n",
       "2               39156                                        FOGO EM VOO   \n",
       "3               39158                                   SUPERAQUECIMENTO   \n",
       "4               39176  FALHA OU MAU FUNCIONAMENTO DE SISTEMA / COMPON...   \n",
       "5               39178  FALHA OU MAU FUNCIONAMENTO DE SISTEMA / COMPON...   \n",
       "6               39235                           PERDA DE CONTROLE EM VOO   \n",
       "7               39275  FALHA OU MAU FUNCIONAMENTO DE SISTEMA / COMPON...   \n",
       "8               39295                           PERDA DE CONTROLE EM VOO   \n",
       "9               39315                                             OUTROS   \n",
       "\n",
       "                           ocorrencia_tipo_categoria taxonomia_tipo_icao  \n",
       "0                            COMBUSTÍVEL | PANE SECA                FUEL  \n",
       "1  FALHA OU MAU FUNCIONAMENTO DE SISTEMA / COMPON...              SCF-NP  \n",
       "2            FOGO/FUMAÇA (SEM IMPACTO) | FOGO EM VOO                F-NI  \n",
       "3  FALHA OU MAU FUNCIONAMENTO DO MOTOR | SUPERAQU...              SCF-PP  \n",
       "4  FALHA OU MAU FUNCIONAMENTO DE SISTEMA / COMPON...              SCF-NP  \n",
       "5  FALHA OU MAU FUNCIONAMENTO DE SISTEMA / COMPON...              SCF-NP  \n",
       "6                           PERDA DE CONTROLE EM VOO               LOC-I  \n",
       "7  FALHA OU MAU FUNCIONAMENTO DE SISTEMA / COMPON...              SCF-NP  \n",
       "8                           PERDA DE CONTROLE EM VOO               LOC-I  \n",
       "9                                             OUTROS                OTHR  "
      ]
     },
     "execution_count": 36,
     "metadata": {},
     "output_type": "execute_result"
    }
   ],
   "source": [
    "import pandas as pd\n",
    "import matplotlib.pyplot as plt\n",
    "df = pd.read_csv(r'C:/Users/ocorrencia.csv',error_bad_lines=False, sep= ';', encoding = 'utf-8')\n",
    "df.head (10)"
   ]
  },
  {
   "cell_type": "code",
   "execution_count": 38,
   "id": "26fd64bb",
   "metadata": {},
   "outputs": [],
   "source": [
    "# CENIPA - Ocorrências Aeronáuticas na Aviação Civil Brasileira\n",
    "# Constam nesta base de dados as ocorrências aeronáuticas notificadas ao CENIPA \n",
    "#nos últimos 10 anos e que ocorreram \n",
    "# em solo brasileiro. Os gráficos estão filtrados diante dos 5 mais frequentes.\n",
    "#fonte:https://dados.gov.br/dataset/ocorrencias-aeronauticas-da-aviacao-civil-brasileira"
   ]
  },
  {
   "cell_type": "code",
   "execution_count": 37,
   "id": "85cf954a",
   "metadata": {},
   "outputs": [],
   "source": [
    "# grafico das 5 primeiras/mais frequentes ocorrencias, \n",
    "#por comparativo entre tipo e categoria "
   ]
  },
  {
   "cell_type": "code",
   "execution_count": 39,
   "id": "7fe56113",
   "metadata": {
    "scrolled": true
   },
   "outputs": [
    {
     "data": {
      "text/plain": [
       "0                              COMBUSTÍVEL | PANE SECA\n",
       "1    FALHA OU MAU FUNCIONAMENTO DE SISTEMA / COMPON...\n",
       "2              FOGO/FUMAÇA (SEM IMPACTO) | FOGO EM VOO\n",
       "3    FALHA OU MAU FUNCIONAMENTO DO MOTOR | SUPERAQU...\n",
       "4    FALHA OU MAU FUNCIONAMENTO DE SISTEMA / COMPON...\n",
       "Name: ocorrencia_tipo_categoria, dtype: object"
      ]
     },
     "execution_count": 39,
     "metadata": {},
     "output_type": "execute_result"
    }
   ],
   "source": [
    "df['ocorrencia_tipo_categoria'].head(5)"
   ]
  },
  {
   "cell_type": "code",
   "execution_count": 25,
   "id": "d2a38502",
   "metadata": {},
   "outputs": [
    {
     "data": {
      "text/plain": [
       "<AxesSubplot:>"
      ]
     },
     "execution_count": 25,
     "metadata": {},
     "output_type": "execute_result"
    },
    {
     "data": {
      "image/png": "[encoded data removed]",
      "text/plain": [
       "<Figure size 432x288 with 1 Axes>"
      ]
     },
     "metadata": {
      "needs_background": "light"
     },
     "output_type": "display_data"
    }
   ],
   "source": [
    "df['ocorrencia_tipo_categoria'].value_counts().head().plot.bar()"
   ]
  },
  {
   "cell_type": "code",
   "execution_count": null,
   "id": "4d4a6d4e",
   "metadata": {},
   "outputs": [],
   "source": [
    "# grafico da taxonomia das 5 primeiras/mais frequentes ocorrencias "
   ]
  },
  {
   "cell_type": "code",
   "execution_count": 40,
   "id": "0b3d5a36",
   "metadata": {
    "scrolled": true
   },
   "outputs": [
    {
     "data": {
      "text/plain": [
       "0      FUEL\n",
       "1    SCF-NP\n",
       "2      F-NI\n",
       "3    SCF-PP\n",
       "4    SCF-NP\n",
       "Name: taxonomia_tipo_icao, dtype: object"
      ]
     },
     "execution_count": 40,
     "metadata": {},
     "output_type": "execute_result"
    }
   ],
   "source": [
    "df['taxonomia_tipo_icao'].head(5)"
   ]
  },
  {
   "cell_type": "code",
   "execution_count": 29,
   "id": "05133b46",
   "metadata": {},
   "outputs": [
    {
     "data": {
      "text/plain": [
       "<AxesSubplot:>"
      ]
     },
     "execution_count": 29,
     "metadata": {},
     "output_type": "execute_result"
    },
    {
     "data": {
      "image/png": "[encoded data removed]",
      "text/plain": [
       "<Figure size 432x288 with 1 Axes>"
      ]
     },
     "metadata": {
      "needs_background": "light"
     },
     "output_type": "display_data"
    }
   ],
   "source": [
    "df['taxonomia_tipo_icao'].value_counts().head().plot.line()"
   ]
  },
  {
   "cell_type": "code",
   "execution_count": 42,
   "id": "82a991ee",
   "metadata": {},
   "outputs": [],
   "source": [
    "# grafico das 5 primeiras/mais frequentes ocorrencias, por tipo"
   ]
  },
  {
   "cell_type": "code",
   "execution_count": 41,
   "id": "9975dead",
   "metadata": {},
   "outputs": [
    {
     "data": {
      "text/plain": [
       "0                                            PANE SECA\n",
       "1                             VAZAMENTO DE COMBUSTÍVEL\n",
       "2                                          FOGO EM VOO\n",
       "3                                     SUPERAQUECIMENTO\n",
       "4    FALHA OU MAU FUNCIONAMENTO DE SISTEMA / COMPON...\n",
       "Name: ocorrencia_tipo, dtype: object"
      ]
     },
     "execution_count": 41,
     "metadata": {},
     "output_type": "execute_result"
    }
   ],
   "source": [
    "df['ocorrencia_tipo'].head(5)"
   ]
  },
  {
   "cell_type": "code",
   "execution_count": 35,
   "id": "99a8d36c",
   "metadata": {},
   "outputs": [
    {
     "data": {
      "text/plain": [
       "<AxesSubplot:ylabel='ocorrencia_tipo'>"
      ]
     },
     "execution_count": 35,
     "metadata": {},
     "output_type": "execute_result"
    },
    {
     "data": {
      "image/png": "[encoded data removed]",
      "text/plain": [
       "<Figure size 432x288 with 1 Axes>"
      ]
     },
     "metadata": {},
     "output_type": "display_data"
    }
   ],
   "source": [
    "df['ocorrencia_tipo'].value_counts().head().plot.pie()"
   ]
  }
 ],
 "metadata": {
  "kernelspec": {
   "display_name": "Python 3",
   "language": "python",
   "name": "python3"
  },
  "language_info": {
   "codemirror_mode": {
    "name": "ipython",
    "version": 3
   },
   "file_extension": ".py",
   "mimetype": "text/x-python",
   "name": "python",
   "nbconvert_exporter": "python",
   "pygments_lexer": "ipython3",
   "version": "3.8.8"
  }
 },
 "nbformat": 4,
 "nbformat_minor": 5
}
